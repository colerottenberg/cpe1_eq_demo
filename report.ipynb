{
 "cells": [
  {
   "cell_type": "markdown",
   "metadata": {},
   "source": [
    "# Equipment Demonstration 01"
   ]
  },
  {
   "cell_type": "markdown",
   "metadata": {},
   "source": [
    "## Report\n",
    "\n",
    "1. *Warm-up:* Explain the terms **volts per div** and **time per div** as applied to an oscilloscope.\n",
    "Where are they indicated on the scope’s display? \n",
    "    - A div is a measurement of the distance between two vertical or horizontal lines on the screen. Adjustment for visaul purpose can modulate time and voltage per div to allow for better viewing of the signal.\n",
    "2. *Warm-up:* You are designing a class-D audio amplifier that needs a bipolar, +-12V DC power supply for the MOSFETs, as well as a 5V DC supply to power to logic circuitry. Make a labelled diagram showing how this could be done with power supplies available in our lab."
   ]
  },
  {
   "cell_type": "code",
   "execution_count": null,
   "metadata": {
    "vscode": {
     "languageId": "plaintext"
    }
   },
   "outputs": [],
   "source": []
  }
 ],
 "metadata": {
  "language_info": {
   "name": "python"
  }
 },
 "nbformat": 4,
 "nbformat_minor": 2
}
